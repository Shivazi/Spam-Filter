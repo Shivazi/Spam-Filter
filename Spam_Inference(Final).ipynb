{
 "cells": [
  {
   "cell_type": "markdown",
   "metadata": {},
   "source": [
    "### Text-Spam Inference Engine"
   ]
  },
  {
   "cell_type": "code",
   "execution_count": 49,
   "metadata": {
    "collapsed": true
   },
   "outputs": [],
   "source": [
    "#importing dependencis\n",
    "import numpy as np\n",
    "import os"
   ]
  },
  {
   "cell_type": "markdown",
   "metadata": {},
   "source": [
    "### Feature Extractions"
   ]
  },
  {
   "cell_type": "code",
   "execution_count": 50,
   "metadata": {
    "collapsed": true
   },
   "outputs": [],
   "source": [
    "ccc"
   ]
  },
  {
   "cell_type": "markdown",
   "metadata": {},
   "source": [
    "### Loading Model"
   ]
  },
  {
   "cell_type": "code",
   "execution_count": 51,
   "metadata": {
    "collapsed": true
   },
   "outputs": [],
   "source": [
    "import pickle\n",
    "with open(\"model1_SVC\",'rb') as file1:\n",
    "    model1_SVC=pickle.load(file1)\n",
    "with open(\"model2_LNB\",'rb') as file2:\n",
    "    model2_LNB=pickle.load(file2)\n",
    "#Loading dictionary data\n",
    "with open('dictionary','rb') as file:\n",
    "    dictionary= pickle.load(file)"
   ]
  },
  {
   "cell_type": "markdown",
   "metadata": {},
   "source": [
    "### Text Extraction "
   ]
  },
  {
   "cell_type": "code",
   "execution_count": 52,
   "metadata": {},
   "outputs": [
    {
     "name": "stdout",
     "output_type": "stream",
     "text": [
      "Enter a URL..\n",
      "https://docs.python.org/3.8/about.html\n"
     ]
    }
   ],
   "source": [
    "import urllib.request\n",
    "import inscriptis\n",
    "# url=\"https://docs.python.org/3.8/about.html\"\n",
    "print(\"Enter a URL..\")\n",
    "url=input()\n",
    "html = urllib.request.urlopen(url).read().decode('utf-8')\n",
    "text = inscriptis.get_text(html)\n",
    "\n",
    "words=text.split()\n",
    "list_build=[]\n",
    "for i in range(len(words)):\n",
    "    if len(words[i])<=3:\n",
    "        list_build.append(words[i]) \n",
    "for i in range(len(list_build)):\n",
    "    words.remove(list_build[i])\n",
    "\n",
    "#list to string generation\n",
    "words=\" \".join(words)\n",
    "\n",
    "#write text file in a folder\n",
    "import random\n",
    "textfile = open('/home/nybsys/Desktop/Spam Filter/ling-spam/Predicted_mail/textfile.txt', 'w')\n",
    "textfile.write(words)\n",
    "textfile.close()"
   ]
  },
  {
   "cell_type": "markdown",
   "metadata": {
    "collapsed": true
   },
   "source": [
    "### Spam Prediction"
   ]
  },
  {
   "cell_type": "code",
   "execution_count": 53,
   "metadata": {},
   "outputs": [
    {
     "name": "stdout",
     "output_type": "stream",
     "text": [
      "Not spam text\n"
     ]
    }
   ],
   "source": [
    "# Test the unseen mails for Spam\n",
    "test_dir = '/home/nybsys/Desktop/Spam Filter/ling-spam/Predicted_mail'\n",
    "test_matrix = extract_features(test_dir)\n",
    "#result1 = model1_SVC.predict(test_matrix)\n",
    "result2 = model2_LNB.predict(test_matrix)\n",
    "if(result2==0):\n",
    "    print(\"Not spam text\")\n",
    "else: print(\"Spam text\")"
   ]
  }
 ],
 "metadata": {
  "kernelspec": {
   "display_name": "Python 3",
   "language": "python",
   "name": "python3"
  },
  "language_info": {
   "codemirror_mode": {
    "name": "ipython",
    "version": 3
   },
   "file_extension": ".py",
   "mimetype": "text/x-python",
   "name": "python",
   "nbconvert_exporter": "python",
   "pygments_lexer": "ipython3",
   "version": "3.6.3"
  }
 },
 "nbformat": 4,
 "nbformat_minor": 2
}
